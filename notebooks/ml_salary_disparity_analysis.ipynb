{
 "cells": [
  {
   "cell_type": "markdown",
   "metadata": {},
   "source": [
    "# Machine Learning Salary Disparity Analysis\n",
    "\n",
    "This notebook demonstrates the comprehensive salary disparity analysis using machine learning models.\n",
    "\n",
    "## Analysis Components:\n",
    "1. **KMeans Clustering** - Job market segmentation\n",
    "2. **Multiple Linear Regression** - Salary prediction\n",
    "3. **Random Forest Regression** - Salary prediction\n",
    "4. **Logistic Regression** - Above-average salary classification\n",
    "5. **Random Forest Classification** - Job categorization\n",
    "\n",
    "## Focus Areas:\n",
    "- Salary disparity patterns across job segments\n",
    "- Feature importance for salary prediction\n",
    "- Job seeker recommendations based on findings"
   ]
  },
  {
   "cell_type": "code",
   "execution_count": null,
   "metadata": {},
   "outputs": [],
   "source": [
    "# Setup and imports\n",
    "import sys\n",
    "import os\n",
    "import warnings\n",
    "warnings.filterwarnings('ignore')\n",
    "\n",
    "# Add project root to path\n",
    "project_root = os.path.abspath('..')\n",
    "if project_root not in sys.path:\n",
    "    sys.path.insert(0, project_root)\n",
    "\n",
    "# Import ML components\n",
    "from src.ml.salary_disparity import SalaryDisparityAnalyzer\n",
    "from src.core.analyzer import create_spark_analyzer\n",
    "from src.core.processor import JobMarketDataProcessor\n",
    "from src.config.settings import Settings\n",
    "from src.utils.spark_utils import create_spark_session\n",
    "\n",
    "print(\"✓ Imports successful\")\n",
    "print(f\"Project root: {project_root}\")"
   ]
  }
 ],
 "metadata": {
  "kernelspec": {
   "display_name": "Python 3",
   "language": "python",
   "name": "python3"
  },
  "language_info": {
   "codemirror_mode": {
    "name": "ipython",
    "version": 3
   },
   "file_extension": ".py",
   "mimetype": "text/x-python",
   "name": "python",
   "nbconvert_exporter": "python",
   "pygments_lexer": "ipython3",
   "version": "3.8.5"
  }
 },
 "nbformat": 4,
 "nbformat_minor": 4
}
